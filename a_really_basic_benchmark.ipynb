{
  "nbformat": 4,
  "nbformat_minor": 0,
  "metadata": {
    "colab": {
      "provenance": [],
      "include_colab_link": true
    },
    "kernelspec": {
      "name": "python3",
      "display_name": "Python 3"
    },
    "language_info": {
      "name": "python"
    }
  },
  "cells": [
    {
      "cell_type": "markdown",
      "metadata": {
        "id": "view-in-github",
        "colab_type": "text"
      },
      "source": [
        "<a href=\"https://colab.research.google.com/github/nthlevelwiz/cloud-starterkit-fastapi-appengine/blob/master/a_really_basic_benchmark.ipynb\" target=\"_parent\"><img src=\"https://colab.research.google.com/assets/colab-badge.svg\" alt=\"Open In Colab\"/></a>"
      ]
    },
    {
      "cell_type": "code",
      "source": [
        "! pip install openai"
      ],
      "metadata": {
        "colab": {
          "base_uri": "https://localhost:8080/"
        },
        "id": "0yyQvD8uB8cW",
        "outputId": "82b6ec72-954e-4390-c4d9-432a99de38c9"
      },
      "execution_count": 5,
      "outputs": [
        {
          "output_type": "stream",
          "name": "stdout",
          "text": [
            "Requirement already satisfied: openai in /usr/local/lib/python3.10/dist-packages (1.26.0)\n",
            "Requirement already satisfied: anyio<5,>=3.5.0 in /usr/local/lib/python3.10/dist-packages (from openai) (3.7.1)\n",
            "Requirement already satisfied: distro<2,>=1.7.0 in /usr/lib/python3/dist-packages (from openai) (1.7.0)\n",
            "Requirement already satisfied: httpx<1,>=0.23.0 in /usr/local/lib/python3.10/dist-packages (from openai) (0.27.0)\n",
            "Requirement already satisfied: pydantic<3,>=1.9.0 in /usr/local/lib/python3.10/dist-packages (from openai) (2.7.1)\n",
            "Requirement already satisfied: sniffio in /usr/local/lib/python3.10/dist-packages (from openai) (1.3.1)\n",
            "Requirement already satisfied: tqdm>4 in /usr/local/lib/python3.10/dist-packages (from openai) (4.66.4)\n",
            "Requirement already satisfied: typing-extensions<5,>=4.7 in /usr/local/lib/python3.10/dist-packages (from openai) (4.11.0)\n",
            "Requirement already satisfied: idna>=2.8 in /usr/local/lib/python3.10/dist-packages (from anyio<5,>=3.5.0->openai) (3.7)\n",
            "Requirement already satisfied: exceptiongroup in /usr/local/lib/python3.10/dist-packages (from anyio<5,>=3.5.0->openai) (1.2.1)\n",
            "Requirement already satisfied: certifi in /usr/local/lib/python3.10/dist-packages (from httpx<1,>=0.23.0->openai) (2024.2.2)\n",
            "Requirement already satisfied: httpcore==1.* in /usr/local/lib/python3.10/dist-packages (from httpx<1,>=0.23.0->openai) (1.0.5)\n",
            "Requirement already satisfied: h11<0.15,>=0.13 in /usr/local/lib/python3.10/dist-packages (from httpcore==1.*->httpx<1,>=0.23.0->openai) (0.14.0)\n",
            "Requirement already satisfied: annotated-types>=0.4.0 in /usr/local/lib/python3.10/dist-packages (from pydantic<3,>=1.9.0->openai) (0.6.0)\n",
            "Requirement already satisfied: pydantic-core==2.18.2 in /usr/local/lib/python3.10/dist-packages (from pydantic<3,>=1.9.0->openai) (2.18.2)\n"
          ]
        }
      ]
    },
    {
      "cell_type": "code",
      "execution_count": 11,
      "metadata": {
        "colab": {
          "base_uri": "https://localhost:8080/"
        },
        "id": "thoMIo_U5jeT",
        "outputId": "3abb28c0-3d98-47f0-9c91-7d9bcf653a97"
      },
      "outputs": [
        {
          "output_type": "stream",
          "name": "stdout",
          "text": [
            "sk-proj-Qf9Wwhqp6QPhoc0vFsutT3BlbkFJqXLGZzTkrm8fEpAlL6Ir\n"
          ]
        }
      ],
      "source": [
        "from openai import OpenAI\n",
        "import os\n",
        "from google.colab import userdata\n",
        "\n",
        "OPENAI_API_KEY = userdata.get('OPENAI_API_KEY')\n",
        "print(OPENAI_API_KEY)\n",
        "#client = OpenAI(api_key=OPENAI_API_KEY, base_url=\"https://directors-effort-recognised-researcher.trycloudflare.com/v1/\")\n",
        "#https://themultiverse.school/secret_swarm gotta set the model tho\n",
        "#https://d893-2601-1c2-100-ded-5878-1a5-36ba-ac5b.ngrok-free.app/v1\n",
        "#lmstudio-community/Meta-Llama-3-8B-Instruct-GGUF/Meta-Llama-3-8B-Instruct-Q4_K_M.gguf\n",
        "client = OpenAI(api_key=OPENAI_API_KEY)\n",
        "\n",
        "def prompt(language_model, system_prompt, task_definition):\n",
        "\n",
        "  response = client.chat.completions.create(\n",
        "    model=language_model,\n",
        "    messages=[\n",
        "      {\n",
        "        \"role\": \"system\",\n",
        "        \"content\": system_prompt\n",
        "      },\n",
        "      {\n",
        "        \"role\": \"user\",\n",
        "        \"content\": task_definition\n",
        "      }\n",
        "    ],\n",
        "    temperature=1.5,\n",
        "    max_tokens=1000,\n",
        "    top_p=1,\n",
        "    frequency_penalty=0,\n",
        "    presence_penalty=0\n",
        "  )\n",
        "  return response.choices[0].message.content\n",
        "\n",
        "import datetime\n",
        "\n",
        "def save_to_file(language_model, system_prompt, task_definition, results):\n",
        "  filename = datetime.datetime.now()\n",
        "  filename = filename.strftime(\"%Y%m%d%H%M%S%f\")\n",
        "  file_contents = f\"\"\"\n",
        "  Language Model: {language_model}\n",
        "  System Prompt: {system_prompt}\n",
        "  Task Definition: {task_definition}\n",
        "  Results: {results}\n",
        "  \"\"\"\n",
        "  file = open(\"./\" + filename + '.txt', 'w')\n",
        "  file.write(file_contents)\n",
        "  file.close()"
      ]
    },
    {
      "cell_type": "code",
      "source": [
        "## I want to test which system prompts produce the best outputs, given some task definitions\n",
        "## I want to test multiple language models\n",
        "models = [\"gpt-3.5-turbo\", \"gpt-4\"]\n",
        "## I want to have a list of system prompts\n",
        "system_prompts = [\"You are a poem-writing agent. Please write a nice poem.\", \"You are a poet influenced by Wordsworth, Dickenson, and e e cummings. Please write poems using these influences.\"]\n",
        "## I want to have a list of task definitions\n",
        "task_definitions = [\n",
        "  \"Please write a poem about Snakes.\",\n",
        "  \"Please write a haiku about Snakes.\"\n",
        "  \"Please write a haiku using Snakes as a metaphor for life.\",\n",
        "  \"Please write a haiku using Snakes as a metaphor for death.\"\n",
        "]\n",
        "\n",
        "## for each model we're testing\n",
        "for language_model in models:\n",
        "  ## for each system prompt\n",
        "  for system_prompt in system_prompts:\n",
        "    ## for each task definition\n",
        "    for task_definition in task_definitions:\n",
        "      ## Run a function that:\n",
        "      ## given a specified language model\n",
        "      ## given a system prompt\n",
        "      ## given a series of task definitions that I want to run\n",
        "      ## query the specified language model with each task definition with the system prompt separately as a new conversation\n",
        "      try:\n",
        "        results = prompt(language_model, system_prompt, task_definition)\n",
        "        ## get the results, and write them to a file\n",
        "        save_to_file(language_model, system_prompt, task_definition, results)\n",
        "      except Exception as e:\n",
        "        print(e)"
      ],
      "metadata": {
        "id": "dLb9jKP7B3If"
      },
      "execution_count": 13,
      "outputs": []
    }
  ]
}